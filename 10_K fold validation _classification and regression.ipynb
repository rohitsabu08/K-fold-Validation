{
 "cells": [
  {
   "cell_type": "markdown",
   "metadata": {},
   "source": [
    "Objective : To a classification and regression problem using the k-NN algorithm by splitting the data using the K-fold algorithm."
   ]
  },
  {
   "cell_type": "code",
   "execution_count": 11,
   "metadata": {},
   "outputs": [],
   "source": [
    "#Importing the required libraries: \n",
    "import numpy as np\n",
    "import pandas as pd\n",
    "import os                           \n",
    "\n",
    "#For test train split\n",
    "from sklearn.model_selection import train_test_split\n",
    "\n",
    "#To create a confusion matrix\n",
    "from sklearn.metrics import confusion_matrix\n",
    "\n",
    "#Loading library\n",
    "from sklearn.neighbors import KNeighborsClassifier\n",
    "\n",
    "#Loading library\n",
    "from sklearn.neighbors import KNeighborsRegressor\n",
    "\n",
    "# IMPORTING AND READING THE CARS FILE\n",
    "cars=pd.read_csv(\"cars.csv\")              #Reading the file using pandas\n",
    "\n"
   ]
  },
  {
   "cell_type": "markdown",
   "metadata": {},
   "source": [
    "In this algorithm I have defined 3 functions: classifier_splitdata , Knn_algo , Kfold_Classification\n",
    "\n",
    "  **Kfold_Classification**: This function is mainly used to iterate the 5 different K-fold values and concat the ramaining 4 parts and pass to Knn_algo function to calculate the accracy and find the mean accuracy of the kfold value\n",
    "        \n",
    "   **classifier_splitdata**: In this funtion the k fold value is taken as 5 and the data set is spllit into 5 parts and storerd in a list. The splitting is done using a for loop.\n",
    "   \n",
    "   **Knn_algo** : This function test and train data set provided by the Kfold_Classification function and performs Knn classification and plots the confusion matrix. The accuracy the respective dataset is passed through the return function."
   ]
  },
  {
   "cell_type": "markdown",
   "metadata": {},
   "source": [
    "### K fold algorithm to classification"
   ]
  },
  {
   "cell_type": "code",
   "execution_count": 18,
   "metadata": {},
   "outputs": [],
   "source": [
    "def classifier_splitdata():                   #FUNCTION TO SPLIT THE DATASET IN k PARTS\n",
    "\n",
    "# IMPORTING AND READING THE IRIS FILE\n",
    "    iris=pd.read_csv(\"iris2.csv\")              #Reading the file using pandas\n",
    "\n",
    "    data=iris.sample(len(iris))    #random sampling\n",
    "    k=5                            #k value\n",
    "    split_qty = int(len(iris)/k)   #size of each part\n",
    "    dataarray = []                 #list to store each partition of data\n",
    "#Splitting of the data into k parts\n",
    "    z=0\n",
    "    for i in range(0,k):           #for loop to split data set into k parts\n",
    "\n",
    "        newdta = data.iloc[z:z+split_qty] \n",
    "        z = z+split_qty\n",
    "        dataarray.append(newdta)\n",
    "    \n",
    "    return(dataarray)              #Returning the list of split data\n",
    "\n",
    "#--------------------------------------------------------------------------------------------------------------------------\n",
    "\n",
    "def Knn_algo(test,train):          #FUNCTION TO FIND ACCURARCY OF THE Y PREDICTED IN THE DATASET\n",
    "\n",
    "# Splitting the dataset into test and train dataset\n",
    "    X_test  = test[['sepallength','sepalwidth','petallength','petalwidth']]\n",
    "    y_test  = test['species']\n",
    "    X_train = train[['sepallength','sepalwidth','petallength','petalwidth']]\n",
    "    y_train = train['species']\n",
    "    \n",
    "    knn = KNeighborsClassifier(n_neighbors=3)  #3NN   - instantiate learning model (k=3)\n",
    "  \n",
    "    knn.fit(X_train , y_train)                 #fitting the model\n",
    "    \n",
    "    y_pred = knn.predict(X_test)               #predicted y value\n",
    "    \n",
    "#confusion matrix\n",
    "    c= confusion_matrix(y_test , y_pred)\n",
    "# Finding accuracy from the confusion matrix \n",
    "    accuracy = ((c[0,0]+c[1,1]+c[2,2]) / np.sum(c))   \n",
    "    return(accuracy)\n",
    "\n",
    "#-----------------------------------------------------------------------------------------------------------------------\n",
    "\n",
    "def Kfold_Classifiaction():\n",
    "\n",
    "    dataarray = classifier_splitdata()   # CALLING FUNCTION TO SPLIT THE DATASET IN k PARTS (K=5)\n",
    "    \n",
    "    loopcounter = 0        #initialising loop counter\n",
    "    k=5\n",
    "    acc=[]                #List to store the accuracy values \n",
    "    for i in range(k):\n",
    "        cnt=[]            #list to store the index value of train dataset\n",
    "\n",
    "# for loop to hold 1 part of test data and to combine the other parts train data set\n",
    "        for j in range(k):    \n",
    "\n",
    "            if j != loopcounter:\n",
    "                cnt.append(j)                #will hold the index values of train dataset part in dataarray .\n",
    "\n",
    "            else:\n",
    "                testdata_Xy = dataarray[j]  # assigning one part of the test dataset for testing\n",
    "\n",
    "#Combining the remaining parts of the train data set\n",
    "        traindata_Xy = pd.concat([dataarray[cnt[0]],dataarray[cnt[1]],dataarray[cnt[2]],dataarray[cnt[3]]]) \n",
    "       \n",
    "        c=Knn_algo(testdata_Xy,traindata_Xy)  #Calling the function to get the accuracy of the test and train dataset\n",
    "        acc.append(c)                         # Appending the accuracy to a new list\n",
    "\n",
    "        loopcounter=loopcounter+1\n",
    "        \n",
    "#Finding the mean of accuracy\n",
    "    mean_accuracy = np.mean(acc)   \n",
    "\n",
    "    print(\"The accuracy of the algorithm :\",mean_accuracy)"
   ]
  },
  {
   "cell_type": "code",
   "execution_count": 19,
   "metadata": {},
   "outputs": [
    {
     "name": "stdout",
     "output_type": "stream",
     "text": [
      "The accuracy of the algorithm : 0.9600000000000002\n"
     ]
    }
   ],
   "source": [
    "#The following function runs the k-NN classification on iris dataset using K=fold algorithm\n",
    "\n",
    "Kfold_Classifiaction()   #K-fold value =5"
   ]
  },
  {
   "cell_type": "code",
   "execution_count": null,
   "metadata": {},
   "outputs": [],
   "source": []
  },
  {
   "cell_type": "markdown",
   "metadata": {},
   "source": [
    "### K fold algorithm to Regression"
   ]
  },
  {
   "cell_type": "code",
   "execution_count": 20,
   "metadata": {},
   "outputs": [],
   "source": [
    "def regressor_splitdata():  \n",
    "\n",
    "# IMPORTING AND READING THE CARS FILE\n",
    "    cars=pd.read_csv(\"cars.csv\")\n",
    "    cars = cars.drop(['Car','Origin'],axis =1)  #removing the qualitative data for the scaling of the dataset\n",
    "    cars = cars.apply(lambda x: ( x - np.mean(x)) / np.std(x))  #standardizing the dataset\n",
    "    data=cars.sample(len(cars))    #random sampling\n",
    "    k=5                            #k value\n",
    "    split_qty = int(len(cars)/k)   #size of each part\n",
    "    dataarray = []                 #list to store each partition of data\n",
    "\n",
    "#Splitting of the data into k parts\n",
    "    z=0\n",
    "    for i in range(0,k):            #for loop to split data set into k parts\n",
    "    \n",
    "        newdta = data.iloc[z:z+split_qty] \n",
    "        z = z+split_qty\n",
    "        dataarray.append(newdta)\n",
    "    return(dataarray)              #Returning the list of split data\n",
    "\n",
    "#-----------------------------------------------------------------------------------------------------------------------\n",
    "\n",
    "#FUNCTION TO FIND RMSE OF THE Y PREDICTED IN THE DATASET   \n",
    "def Knn_algo(test,train):       \n",
    "    X_train = train[['Cylinders','Displacement','Horsepower','Weight','Acceleration']]\n",
    "    y_train = train['MPG']\n",
    "    X_test  = test[['Cylinders','Displacement','Horsepower','Weight','Acceleration']]\n",
    "    y_test  = test['MPG']\n",
    "    \n",
    "    #instantiate learning regression model (k=3)\n",
    "    knn = KNeighborsRegressor(n_neighbors=3)  #3NN\n",
    "    knn.fit(X_train , y_train)      #fitting the model\n",
    "    y_pred = knn.predict(X_test)    #predicted y value\n",
    "    \n",
    "    rmse = np.sqrt(np.mean((np.array(y_test)- y_pred)**2))  #Finding the rmse value for predicted Y values\n",
    "    return(rmse)\n",
    "\n",
    "#-----------------------------------------------------------------------------------------------------------------------\n",
    "\n",
    "def Kfold_Regression():\n",
    "    \n",
    "    dataarray = regressor_splitdata()   # CALLING FUNCTION TO SPLIT THE DATASET IN k PARTS (K=5)\n",
    "    \n",
    "    loopcounter = 0    # Define a counter for the loop \n",
    "    acc=[]             # Defining a list to store the rmse values\n",
    "\n",
    "    for i in range(5):\n",
    "        cnt=[]\n",
    "\n",
    "        # for loop will hold 1 part of test data and other parts of combined train data\n",
    "        for j in range(5):             \n",
    "            if j != loopcounter:\n",
    "                cnt.append(j)                  #will hold the index of required parts of train data.\n",
    "            else:\n",
    "                testdata_Xy = dataarray[j]     #will hold the index values of train dataset part in dataarray .\n",
    "\n",
    "#Combining the remaining parts of the train data set\n",
    "        traindata_Xy = pd.concat([dataarray[cnt[0]],dataarray[cnt[1]],dataarray[cnt[2]],dataarray[cnt[3]]])      \n",
    "\n",
    "        c = Knn_algo(testdata_Xy,traindata_Xy)   #Calling the function to get the accuracy of the test and train dataset\n",
    "        acc.append(c)                            # Appending the rmse values to a new list     \n",
    "\n",
    "        loopcounter=loopcounter+1\n",
    "\n",
    "#Finding the mean of rmse\n",
    "    mean_accuracy = np.mean(acc)   \n",
    " \n",
    "    print(\"The Average RMSE of the algorithm :\",mean_accuracy)"
   ]
  },
  {
   "cell_type": "code",
   "execution_count": 21,
   "metadata": {},
   "outputs": [
    {
     "name": "stdout",
     "output_type": "stream",
     "text": [
      "The Average RMSE of the algorithm : 0.6398721699788461\n"
     ]
    }
   ],
   "source": [
    "#The following function runs the k-NN regression on cars dataset using K-fold algorithm\n",
    "\n",
    "Kfold_Regression()       #K-fold value =5"
   ]
  },
  {
   "cell_type": "code",
   "execution_count": null,
   "metadata": {},
   "outputs": [],
   "source": []
  },
  {
   "cell_type": "code",
   "execution_count": null,
   "metadata": {},
   "outputs": [],
   "source": []
  }
 ],
 "metadata": {
  "kernelspec": {
   "display_name": "Python 3",
   "language": "python",
   "name": "python3"
  },
  "language_info": {
   "codemirror_mode": {
    "name": "ipython",
    "version": 3
   },
   "file_extension": ".py",
   "mimetype": "text/x-python",
   "name": "python",
   "nbconvert_exporter": "python",
   "pygments_lexer": "ipython3",
   "version": "3.8.5"
  }
 },
 "nbformat": 4,
 "nbformat_minor": 4
}
